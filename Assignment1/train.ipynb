{
  "nbformat": 4,
  "nbformat_minor": 0,
  "metadata": {
    "colab": {
      "provenance": [],
      "authorship_tag": "ABX9TyOX2xmSlYoZWDN+pJePa3f4",
      "include_colab_link": true
    },
    "kernelspec": {
      "name": "python3",
      "display_name": "Python 3"
    },
    "language_info": {
      "name": "python"
    }
  },
  "cells": [
    {
      "cell_type": "markdown",
      "metadata": {
        "id": "view-in-github",
        "colab_type": "text"
      },
      "source": [
        "<a href=\"https://colab.research.google.com/github/22Himanshu/AppliedMachineLearning/blob/main/train.ipynb\" target=\"_parent\"><img src=\"https://colab.research.google.com/assets/colab-badge.svg\" alt=\"Open In Colab\"/></a>"
      ]
    },
    {
      "cell_type": "markdown",
      "source": [
        "## Himanshu (MDS202328)"
      ],
      "metadata": {
        "id": "YB6Tm0AguVP1"
      }
    },
    {
      "cell_type": "markdown",
      "source": [
        "## Applied_ML_Spam_Classifier_1"
      ],
      "metadata": {
        "id": "lFIBPU6suVhI"
      }
    },
    {
      "cell_type": "markdown",
      "source": [
        "#### Importing Libraries"
      ],
      "metadata": {
        "id": "cdc0FvGguwiq"
      }
    },
    {
      "cell_type": "code",
      "source": [
        "import pandas as pd\n",
        "from sklearn.model_selection import train_test_split, GridSearchCV\n",
        "from sklearn.feature_extraction.text import TfidfVectorizer\n",
        "from sklearn.naive_bayes import MultinomialNB\n",
        "from sklearn.linear_model import LogisticRegression\n",
        "from sklearn.svm import SVC\n",
        "import seaborn as sns\n",
        "from sklearn.metrics import accuracy_score, classification_report\n",
        "import os\n",
        "from google.colab import drive\n",
        "drive.mount('/content/drive')"
      ],
      "metadata": {
        "colab": {
          "base_uri": "https://localhost:8080/"
        },
        "id": "oQNA6n7Wuffk",
        "outputId": "73b9061b-8418-4bf6-caa5-c9fadfa8028d"
      },
      "execution_count": 22,
      "outputs": [
        {
          "output_type": "stream",
          "name": "stdout",
          "text": [
            "Drive already mounted at /content/drive; to attempt to forcibly remount, call drive.mount(\"/content/drive\", force_remount=True).\n"
          ]
        }
      ]
    },
    {
      "cell_type": "code",
      "source": [
        "def load_splits(data_dir):\n",
        "    \"\"\"Loads train, validation, and test datasets from CSV files.\"\"\"\n",
        "    train = pd.read_csv(os.path.join(data_dir, 'train.csv'))\n",
        "    val = pd.read_csv(os.path.join(data_dir, 'validation.csv'))\n",
        "    test = pd.read_csv(os.path.join(data_dir, 'test.csv'))\n",
        "    return train, val, test\n",
        "\n",
        "\n",
        "data_dir = \"/content/drive/MyDrive/Applied_ML/data\"\n",
        "train, val, test = load_splits(data_dir)"
      ],
      "metadata": {
        "id": "haxCsmC2u6H5"
      },
      "execution_count": 23,
      "outputs": []
    },
    {
      "cell_type": "code",
      "source": [
        "sns.barplot(train.iloc[:,0].value_counts())"
      ],
      "metadata": {
        "colab": {
          "base_uri": "https://localhost:8080/",
          "height": 468
        },
        "id": "x0C9FUHt5IKa",
        "outputId": "d3d83a7e-fdc9-41f8-c82a-95c17749563a"
      },
      "execution_count": 25,
      "outputs": [
        {
          "output_type": "execute_result",
          "data": {
            "text/plain": [
              "<Axes: xlabel='label', ylabel='count'>"
            ]
          },
          "metadata": {},
          "execution_count": 25
        },
        {
          "output_type": "display_data",
          "data": {
            "text/plain": [
              "<Figure size 640x480 with 1 Axes>"
            ],
            "image/png": "[encoded data removed]"
          },
          "metadata": {}
        }
      ]
    },
    {
      "cell_type": "markdown",
      "source": [
        "#### The data is inbalanced. i will try to put some weightage on 1 to balance out recall"
      ],
      "metadata": {
        "id": "PqI8qhWo7e3g"
      }
    },
    {
      "cell_type": "code",
      "source": [
        "def vectorize_data(train, val, test):\n",
        "    \"\"\"Converts text data into TF-IDF vectors.\"\"\"\n",
        "    vectorizer = TfidfVectorizer()\n",
        "    X_train = vectorizer.fit_transform(train['message'])\n",
        "    X_val = vectorizer.transform(val['message'])\n",
        "    X_test = vectorizer.transform(test['message'])\n",
        "    return X_train, X_val, X_test, train['label'], val['label'], test['label'], vectorizer\n",
        "\n",
        "X_train, X_val, X_test, y_train, y_val, y_test, vectorizer = vectorize_data(train, val, test)"
      ],
      "metadata": {
        "id": "sBHSkNm1u8Rt"
      },
      "execution_count": 26,
      "outputs": []
    },
    {
      "cell_type": "code",
      "source": [
        "X_train.shape, X_val.shape, X_test.shape"
      ],
      "metadata": {
        "colab": {
          "base_uri": "https://localhost:8080/"
        },
        "id": "dfiMulrD8Ab5",
        "outputId": "996af9f2-7c03-434c-c7aa-5a4c70822355"
      },
      "execution_count": 29,
      "outputs": [
        {
          "output_type": "execute_result",
          "data": {
            "text/plain": [
              "((3900, 7120), (836, 7120), (836, 7120))"
            ]
          },
          "metadata": {},
          "execution_count": 29
        }
      ]
    },
    {
      "cell_type": "code",
      "source": [
        "def fit_model(X_train, y_train, model):\n",
        "    \"\"\"Fits a model on training data.\"\"\"\n",
        "    model.fit(X_train, y_train, sample_weight=y_train.map({0:1,1:6}))   #sample_weight here ensures that minority gets enough representation.\n",
        "    return model\n"
      ],
      "metadata": {
        "id": "Bjq9pDeH8URe"
      },
      "execution_count": 64,
      "outputs": []
    },
    {
      "cell_type": "code",
      "source": [
        "def score_model(model, X, y):\n",
        "    \"\"\"Scores a model on given data.\"\"\"\n",
        "    y_pred = model.predict(X)\n",
        "    return accuracy_score(y, y_pred), classification_report(y, y_pred)\n",
        "\n",
        "def evaluate_model(model, X_train, y_train, X_val, y_val):\n",
        "    \"\"\"Evaluates the model on both training and validation data.\"\"\"\n",
        "    train_acc, train_report = score_model(model, X_train, y_train)\n",
        "    val_acc, val_report = score_model(model, X_val, y_val)\n",
        "    print(f\"{model} Training Accuracy:\", train_acc)\n",
        "    print(f\"{model} Validation Accuracy:\", val_acc)\n",
        "    print(f\"{model} Validation Report:\\n\", val_report)\n",
        "    return train_acc, val_acc\n",
        "\n",
        "def fine_tune_model(X_train, y_train, X_val, y_val):\n",
        "    \"\"\"Fine-tunes hyperparameters using GridSearchCV.\"\"\"\n",
        "    param_grid = {'C': [0.1, 1, 10, 100]}\n",
        "    model = GridSearchCV(LogisticRegression(), param_grid, cv=3)\n",
        "    model.fit(X_train, y_train)\n",
        "    print(\"Best parameters:\", model.best_params_)\n",
        "    return model.best_estimator_\n",
        "\n",
        "def benchmark_models(X_train, y_train, X_val, y_val, X_test, y_test):\n",
        "    \"\"\"Trains and evaluates multiple models, selecting the best one.\"\"\"\n",
        "    models = {\n",
        "        'Naive Bayes': MultinomialNB(),\n",
        "        'Logistic Regression': LogisticRegression(),\n",
        "        'SVM': SVC()\n",
        "    }\n",
        "    best_model, best_acc = None, 0\n",
        "    for name, model in models.items():\n",
        "        model = fit_model(X_train, y_train, model)\n",
        "        _, val_acc = evaluate_model(model, X_train, y_train, X_val, y_val)\n",
        "        print(\"\\n-----------------------------------------------------------------\")\n",
        "        print(\"\\n\")\n",
        "        if val_acc > best_acc:\n",
        "            best_acc = val_acc\n",
        "            best_model = model\n",
        "    test_acc, test_report = score_model(best_model, X_test, y_test)\n",
        "    print(f\"The best model is {best_model}\")\n",
        "    print(\"Best Model Test Accuracy:\", test_acc)\n",
        "    print(\"Test Report:\\n\", test_report)\n",
        "    return best_model"
      ],
      "metadata": {
        "id": "foY2mEcsvCNL"
      },
      "execution_count": 65,
      "outputs": []
    },
    {
      "cell_type": "code",
      "source": [
        "best_model = benchmark_models(X_train, y_train, X_val, y_val, X_test, y_test)"
      ],
      "metadata": {
        "colab": {
          "base_uri": "https://localhost:8080/"
        },
        "id": "ZeJNBhLE7Awh",
        "outputId": "1e5f67fa-8e26-403f-c308-d0683e5f18d5"
      },
      "execution_count": 66,
      "outputs": [
        {
          "output_type": "stream",
          "name": "stdout",
          "text": [
            "MultinomialNB() Training Accuracy: 0.9910256410256411\n",
            "MultinomialNB() Validation Accuracy: 0.9844497607655502\n",
            "MultinomialNB() Validation Report:\n",
            "               precision    recall  f1-score   support\n",
            "\n",
            "           0       0.99      0.99      0.99       724\n",
            "           1       0.95      0.94      0.94       112\n",
            "\n",
            "    accuracy                           0.98       836\n",
            "   macro avg       0.97      0.96      0.97       836\n",
            "weighted avg       0.98      0.98      0.98       836\n",
            "\n",
            "\n",
            "-----------------------------------------------------------------\n",
            "\n",
            "\n",
            "LogisticRegression() Training Accuracy: 0.9938461538461538\n",
            "LogisticRegression() Validation Accuracy: 0.9880382775119617\n",
            "LogisticRegression() Validation Report:\n",
            "               precision    recall  f1-score   support\n",
            "\n",
            "           0       0.99      1.00      0.99       724\n",
            "           1       0.97      0.94      0.95       112\n",
            "\n",
            "    accuracy                           0.99       836\n",
            "   macro avg       0.98      0.97      0.97       836\n",
            "weighted avg       0.99      0.99      0.99       836\n",
            "\n",
            "\n",
            "-----------------------------------------------------------------\n",
            "\n",
            "\n",
            "SVC() Training Accuracy: 1.0\n",
            "SVC() Validation Accuracy: 0.9808612440191388\n",
            "SVC() Validation Report:\n",
            "               precision    recall  f1-score   support\n",
            "\n",
            "           0       0.98      1.00      0.99       724\n",
            "           1       0.99      0.87      0.92       112\n",
            "\n",
            "    accuracy                           0.98       836\n",
            "   macro avg       0.98      0.93      0.96       836\n",
            "weighted avg       0.98      0.98      0.98       836\n",
            "\n",
            "\n",
            "-----------------------------------------------------------------\n",
            "\n",
            "\n",
            "The best model is LogisticRegression()\n",
            "Best Model Test Accuracy: 0.9820574162679426\n",
            "Test Report:\n",
            "               precision    recall  f1-score   support\n",
            "\n",
            "           0       0.99      0.99      0.99       724\n",
            "           1       0.94      0.93      0.93       112\n",
            "\n",
            "    accuracy                           0.98       836\n",
            "   macro avg       0.96      0.96      0.96       836\n",
            "weighted avg       0.98      0.98      0.98       836\n",
            "\n"
          ]
        }
      ]
    },
    {
      "cell_type": "markdown",
      "source": [
        "## It seems performance of all three models are comparable/almost same."
      ],
      "metadata": {
        "id": "PspVp_F8F59l"
      }
    },
    {
      "cell_type": "code",
      "source": [],
      "metadata": {
        "id": "VBuyM4R69rhR"
      },
      "execution_count": null,
      "outputs": []
    }
  ]
}
